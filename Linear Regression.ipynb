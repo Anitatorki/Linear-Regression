{
 "cells": [
  {
   "cell_type": "code",
   "execution_count": 17,
   "id": "1d01a484-fb8f-4b7c-9bb7-f5fa5a992687",
   "metadata": {},
   "outputs": [],
   "source": [
    "import numpy as np\n",
    "import pandas as pd \n",
    "import matplotlib.pyplot as plt\n",
    "import sklearn\n",
    "from sklearn.model_selection import train_test_split\n",
    "from sklearn import linear_model"
   ]
  },
  {
   "cell_type": "code",
   "execution_count": null,
   "id": "8a333a44-7f37-48ce-b618-fe448ec41fae",
   "metadata": {},
   "outputs": [],
   "source": [
    "df = pd.read_csv(\"student-mat.csv\", sep=\";\")\n",
    "df = df[[\"age\",\"absences\",\"freetime\",\"Medu\", \"G1\",\"G2\",\"G3\"]]\n",
    "\n",
    "predict = \"G3\"\n",
    "X = np.array(df.drop([predict], axis=1))\n",
    "y = np.array(df[predict])"
   ]
  },
  {
   "cell_type": "code",
   "execution_count": 27,
   "id": "aa3a217f-b6e1-426d-ad19-e9b89f13959a",
   "metadata": {},
   "outputs": [],
   "source": [
    "# x_train, x_test, y_train, y_test = train_test_split(X, y, test_size=0.1)\n"
   ]
  },
  {
   "cell_type": "code",
   "execution_count": null,
   "id": "db64dbd8-93ab-4f99-a11d-a752586262ea",
   "metadata": {},
   "outputs": [],
   "source": [
    "# model = linear_model.LinearRegression()\n",
    "# model.fit(x_train, y_train)\n",
    "# acc = model.score(x_test, y_test)\n",
    "\n",
    "# print(acc)\n"
   ]
  },
  {
   "cell_type": "code",
   "execution_count": 37,
   "id": "0c316418-dfc1-4e1f-86c9-70ac4e6d85b1",
   "metadata": {},
   "outputs": [
    {
     "data": {
      "text/plain": [
       "array([12.89090745])"
      ]
     },
     "execution_count": 37,
     "metadata": {},
     "output_type": "execute_result"
    }
   ],
   "source": [
    "# model.predict([x_test[0]])"
   ]
  },
  {
   "cell_type": "code",
   "execution_count": 38,
   "id": "95d728da-eabd-41b2-be20-c40f261fe42a",
   "metadata": {},
   "outputs": [
    {
     "data": {
      "text/plain": [
       "array([15,  6,  3,  2, 11, 13], dtype=int64)"
      ]
     },
     "execution_count": 38,
     "metadata": {},
     "output_type": "execute_result"
    }
   ],
   "source": [
    "# x_test[0]"
   ]
  },
  {
   "cell_type": "code",
   "execution_count": 39,
   "id": "4180ce4c-26df-416d-ad57-1f7552ca04b7",
   "metadata": {},
   "outputs": [
    {
     "name": "stdout",
     "output_type": "stream",
     "text": [
      "12.488007979999999\n"
     ]
    }
   ],
   "source": [
    "# y = -0.18057911*15 + 0.04138008*6 + 0.12750052*3 + 0.0393772*2 + 0.17533637*11 + 0.96603524*13\n",
    "# print(y)"
   ]
  },
  {
   "cell_type": "code",
   "execution_count": 36,
   "id": "8d2985a9-7252-4d0d-b0f3-7ad23ee1098f",
   "metadata": {},
   "outputs": [
    {
     "data": {
      "text/plain": [
       "0.402899545699114"
      ]
     },
     "execution_count": 36,
     "metadata": {},
     "output_type": "execute_result"
    }
   ],
   "source": [
    "# model.intercept_"
   ]
  },
  {
   "cell_type": "code",
   "execution_count": 35,
   "id": "d682cac4-7b95-4f8e-9d02-73fb104bcf15",
   "metadata": {},
   "outputs": [
    {
     "data": {
      "text/plain": [
       "array([-0.18057911,  0.04138008,  0.12750052,  0.0393772 ,  0.17533637,\n",
       "        0.96603524])"
      ]
     },
     "execution_count": 35,
     "metadata": {},
     "output_type": "execute_result"
    }
   ],
   "source": [
    "# model.coef_"
   ]
  },
  {
   "cell_type": "code",
   "execution_count": 34,
   "id": "8ad5eba7-f821-422c-9921-addafeea1294",
   "metadata": {},
   "outputs": [
    {
     "name": "stdout",
     "output_type": "stream",
     "text": [
      "Real: 14, Predicted: 12.890907454510886\n",
      "-------------------------------------------\n",
      "Real: 9, Predicted: 9.33040433012198\n",
      "-------------------------------------------\n",
      "Real: 0, Predicted: 6.1004501721768465\n",
      "-------------------------------------------\n",
      "Real: 14, Predicted: 12.09553342155203\n",
      "-------------------------------------------\n",
      "Real: 15, Predicted: 14.666036708286697\n",
      "-------------------------------------------\n",
      "Real: 10, Predicted: 10.275777315442795\n",
      "-------------------------------------------\n",
      "Real: 0, Predicted: 0.1629233279850948\n",
      "-------------------------------------------\n",
      "Real: 10, Predicted: 9.36830426999399\n",
      "-------------------------------------------\n",
      "Real: 8, Predicted: 5.908052118921296\n",
      "-------------------------------------------\n",
      "Real: 0, Predicted: -0.7668371053602252\n",
      "-------------------------------------------\n",
      "Real: 18, Predicted: 18.67581901050437\n",
      "-------------------------------------------\n",
      "Real: 10, Predicted: 9.775439840942001\n",
      "-------------------------------------------\n",
      "Real: 12, Predicted: 12.110145085987892\n",
      "-------------------------------------------\n",
      "Real: 15, Predicted: 15.441563251896211\n",
      "-------------------------------------------\n",
      "Real: 16, Predicted: 14.903065789098324\n",
      "-------------------------------------------\n",
      "Real: 10, Predicted: 8.442315643266632\n",
      "-------------------------------------------\n",
      "Real: 9, Predicted: 6.246905911806425\n",
      "-------------------------------------------\n",
      "Real: 6, Predicted: 6.294294029187609\n",
      "-------------------------------------------\n",
      "Real: 14, Predicted: 14.32586745410902\n",
      "-------------------------------------------\n",
      "Real: 14, Predicted: 13.16271645463898\n",
      "-------------------------------------------\n",
      "Real: 8, Predicted: 7.901254644021085\n",
      "-------------------------------------------\n",
      "Real: 18, Predicted: 17.882725528373996\n",
      "-------------------------------------------\n",
      "Real: 10, Predicted: 8.456137465232352\n",
      "-------------------------------------------\n",
      "Real: 14, Predicted: 13.013165234366749\n",
      "-------------------------------------------\n",
      "Real: 9, Predicted: 7.570183176464833\n",
      "-------------------------------------------\n",
      "Real: 12, Predicted: 10.607494832942898\n",
      "-------------------------------------------\n",
      "Real: 15, Predicted: 15.179460978227416\n",
      "-------------------------------------------\n",
      "Real: 8, Predicted: 7.398086670020938\n",
      "-------------------------------------------\n",
      "Real: 8, Predicted: 7.017303232370687\n",
      "-------------------------------------------\n",
      "Real: 18, Predicted: 19.283375233025673\n",
      "-------------------------------------------\n",
      "Real: 0, Predicted: 9.106201996325193\n",
      "-------------------------------------------\n",
      "Real: 18, Predicted: 19.184374695078937\n",
      "-------------------------------------------\n",
      "Real: 15, Predicted: 15.919180024918006\n",
      "-------------------------------------------\n",
      "Real: 11, Predicted: 10.195115933200775\n",
      "-------------------------------------------\n",
      "Real: 12, Predicted: 12.92928794036063\n",
      "-------------------------------------------\n",
      "Real: 9, Predicted: 9.303286305012946\n",
      "-------------------------------------------\n",
      "Real: 10, Predicted: 8.892157840640301\n",
      "-------------------------------------------\n",
      "Real: 14, Predicted: 11.793486375759358\n",
      "-------------------------------------------\n",
      "Real: 12, Predicted: 11.656410650874815\n",
      "-------------------------------------------\n",
      "Real: 8, Predicted: 7.33463135394792\n",
      "-------------------------------------------\n"
     ]
    }
   ],
   "source": [
    "# predicted = model.predict(x_test)\n",
    "# for i in range(len(predicted)):\n",
    "#     print(f\"Real: {y_test[i]}, Predicted: {predicted[i]}\")\n",
    "#     print(\"-------------------------------------------\")\n"
   ]
  },
  {
   "cell_type": "code",
   "execution_count": 35,
   "id": "86adbd21-5437-4fa7-899b-e24d9ee1cc6a",
   "metadata": {},
   "outputs": [],
   "source": [
    "#test for the highest prediction\n",
    "EPOCH = 100\n",
    "best = 0\n",
    "for i in range(EPOCH):\n",
    "    x_train, x_test, y_train, y_test = train_test_split(X, y, test_size=0.1)\n",
    "    model = linear_model.LinearRegression()\n",
    "    model.fit(x_train, y_train)\n",
    "    acc = model.score(x_test, y_test)\n",
    "    if acc>best:\n",
    "        best = acc\n",
    "\n"
   ]
  },
  {
   "cell_type": "code",
   "execution_count": 36,
   "id": "16a244ad-202e-4a5b-85ad-915fe256b3e4",
   "metadata": {},
   "outputs": [
    {
     "data": {
      "text/plain": [
       "0.9235886028814412"
      ]
     },
     "execution_count": 36,
     "metadata": {},
     "output_type": "execute_result"
    }
   ],
   "source": [
    "best"
   ]
  },
  {
   "cell_type": "code",
   "execution_count": 37,
   "id": "50aaab2e-9803-4195-9324-0f7e77e4b615",
   "metadata": {},
   "outputs": [
    {
     "name": "stdout",
     "output_type": "stream",
     "text": [
      "Model accuracy: 0.88326339241702\n"
     ]
    }
   ],
   "source": [
    "#Part random state\n",
    "x_train, x_test, y_train, y_test = train_test_split(X, y, test_size=0.1, random_state=123)\n",
    "model = linear_model.LinearRegression()\n",
    "model.fit(x_train, y_train)\n",
    "acc = model.score(x_test, y_test)\n",
    "print(f\"Model accuracy: {acc}\")\n"
   ]
  }
 ],
 "metadata": {
  "kernelspec": {
   "display_name": "Python 3 (ipykernel)",
   "language": "python",
   "name": "python3"
  },
  "language_info": {
   "codemirror_mode": {
    "name": "ipython",
    "version": 3
   },
   "file_extension": ".py",
   "mimetype": "text/x-python",
   "name": "python",
   "nbconvert_exporter": "python",
   "pygments_lexer": "ipython3",
   "version": "3.11.1"
  }
 },
 "nbformat": 4,
 "nbformat_minor": 5
}
